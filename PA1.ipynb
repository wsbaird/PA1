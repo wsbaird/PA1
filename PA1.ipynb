{
 "cells": [
  {
   "cell_type": "code",
   "execution_count": null,
   "metadata": {},
   "outputs": [],
   "source": [
    "x = int (input (\"Please enter an integer: \"))\n",
    "y = int (input (\"Please enter a second integer: \"))\n",
    "print (\"The sum of these two numbers is\", x + y)\n",
    "print (\"The difference of these two numbers is\", x - y)\n",
    "print (\"The product of these two numbers is\", x * y)\n",
    "print (\"The quotient of these two numbers is\", x / y)"
   ]
  },
  {
   "cell_type": "code",
   "execution_count": null,
   "metadata": {},
   "outputs": [],
   "source": []
  }
 ],
 "metadata": {
  "kernelspec": {
   "display_name": "Python 3",
   "language": "python",
   "name": "python3"
  },
  "language_info": {
   "codemirror_mode": {
    "name": "ipython",
    "version": 3
   },
   "file_extension": ".py",
   "mimetype": "text/x-python",
   "name": "python",
   "nbconvert_exporter": "python",
   "pygments_lexer": "ipython3",
   "version": "3.8.3"
  }
 },
 "nbformat": 4,
 "nbformat_minor": 4
}
