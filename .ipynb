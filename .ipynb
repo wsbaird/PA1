{
 "cells": [
  {
   "cell_type": "code",
   "execution_count": 9,
   "metadata": {},
   "outputs": [
    {
     "name": "stdout",
     "output_type": "stream",
     "text": [
      "Please enter an integer: 1\n",
      "Please enter a second integer: 34\n",
      "The sum of these two numbers is 35\n",
      "The difference of these two numbers is -33\n",
      "The product of these two numbers is 34\n",
      "The quotient of these two numbers is 0.029411764705882353\n"
     ]
    }
   ],
   "source": [
    "x = int (input (\"Please enter an integer: \"))\n",
    "y = int (input (\"Please enter a second integer: \"))\n",
    "print (\"The sum of these two numbers is\", x + y)\n",
    "print (\"The difference of these two numbers is\", x - y)\n",
    "print (\"The product of these two numbers is\", x * y)\n",
    "print (\"The quotient of these two numbers is\", x / y)"
   ]
  },
  {
   "cell_type": "code",
   "execution_count": null,
   "metadata": {},
   "outputs": [],
   "source": []
  }
 ],
 "metadata": {
  "kernelspec": {
   "display_name": "Python 3",
   "language": "python",
   "name": "python3"
  },
  "language_info": {
   "codemirror_mode": {
    "name": "ipython",
    "version": 3
   },
   "file_extension": ".py",
   "mimetype": "text/x-python",
   "name": "python",
   "nbconvert_exporter": "python",
   "pygments_lexer": "ipython3",
   "version": "3.8.3"
  }
 },
 "nbformat": 4,
 "nbformat_minor": 4
}
